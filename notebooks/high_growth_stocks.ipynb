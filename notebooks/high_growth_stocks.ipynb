{
 "cells": [
  {
   "cell_type": "code",
   "execution_count": 1,
   "metadata": {},
   "outputs": [
    {
     "name": "stdout",
     "output_type": "stream",
     "text": [
      "Using device: mps\n"
     ]
    }
   ],
   "source": [
    "import pandas as pd\n",
    "import torch\n",
    "import torch.nn as nn\n",
    "from torch.utils.data import DataLoader, TensorDataset\n",
    "from sklearn.preprocessing import MinMaxScaler\n",
    "import matplotlib.pyplot as plt\n",
    "from datetime import datetime, timedelta\n",
    "\n",
    "# Set device for PyTorch\n",
    "device = torch.device(\"mps\" if torch.backends.mps.is_available() else \"cpu\")\n",
    "print(f\"Using device: {device}\")\n",
    "\n",
    "def predict(model, features_scaled, window_size, ticker, scaler, stock_data, enhanced_data, num_months=60):\n",
    "    model.eval()\n",
    "    predictions = []\n",
    "    last_window = features_scaled[-window_size:]\n",
    "    last_price = float(stock_data['Close'].iloc[-1].iloc[0])\n",
    "    last_features = enhanced_data.iloc[-1]\n",
    "    \n",
    "    # Start from today\n",
    "    today = datetime.now()\n",
    "    \n",
    "    # Generate the next 60 months (5 years)\n",
    "    prediction_dates = [today + timedelta(days=30 * i) for i in range(1, num_months + 1)]  # Every 30 days\n",
    "    \n",
    "    # Verify the dates are correct\n",
    "    print(\"\\nPredicting for the next months:\")\n",
    "    for date in prediction_dates:\n",
    "        print(date.strftime('%Y-%m-%d'))\n",
    "    \n",
    "    with torch.no_grad():\n",
    "        current_window = torch.FloatTensor(last_window).unsqueeze(0).to(device)\n",
    "        current_price = last_price\n",
    "        \n",
    "        for i in range(len(prediction_dates)):\n",
    "            # Predict percentage change\n",
    "            pct_change = model(current_window).item()\n",
    "            predicted_price = current_price * (1 + pct_change)\n",
    "            predictions.append(predicted_price)\n",
    "            \n",
    "            # Update for next prediction\n",
    "            current_price = predicted_price\n",
    "            \n",
    "            # Create new window by shifting\n",
    "            new_window = current_window.clone()\n",
    "            new_window[0, :-1, :] = new_window[0, 1:, :]\n",
    "            \n",
    "            # Update the last row with the new price\n",
    "            new_features = last_features.copy()\n",
    "            new_features['Close'] = predicted_price\n",
    "            new_features['Open'] = predicted_price\n",
    "            new_features['High'] = predicted_price\n",
    "            new_features['Low'] = predicted_price\n",
    "            \n",
    "            # Scale the new features\n",
    "            scaled_new_features = scaler.transform(new_features.values.reshape(1, -1))[0]\n",
    "            new_window[0, -1, :] = torch.FloatTensor(scaled_new_features).to(device)\n",
    "            current_window = new_window\n",
    "\n",
    "    # Create DataFrame for predicted prices\n",
    "    prediction_df = pd.DataFrame({\n",
    "        'Date': prediction_dates,\n",
    "        'Predicted Price': predictions,\n",
    "        'Pct_Change': [(p/last_price - 1)*100 for p in predictions]\n",
    "    })\n",
    "    \n",
    "    print(\"\\nPredictions for the next months:\")\n",
    "    print(prediction_df.to_string(float_format=lambda x: '{:.2f}'.format(x)))\n",
    "    \n",
    "    # Plot the predictions\n",
    "    plt.figure(figsize=(12, 6))\n",
    "    plt.plot(stock_data.index[-30:], stock_data['Close'][-30:], label='Historical')\n",
    "    plt.plot(prediction_df['Date'], prediction_df['Predicted Price'], label='Predicted', linestyle='--')\n",
    "    plt.title(f'{ticker} Stock Price Prediction (Monthly for Next 5 Years)')\n",
    "    plt.xlabel('Date')\n",
    "    plt.ylabel('Price')\n",
    "    plt.legend()\n",
    "    plt.grid(True)\n",
    "    plt.show()\n",
    "    \n",
    "    return prediction_df\n"
   ]
  },
  {
   "cell_type": "code",
   "execution_count": 2,
   "metadata": {},
   "outputs": [
    {
     "name": "stdout",
     "output_type": "stream",
     "text": [
      "model_dir /Users/makeen/dev/StockModel/notebooks/saved_models/stocks_10x_breakout_model\n",
      "No saved model found for stocks_10x_breakout_model\n",
      "Training new model.\n",
      "Training growth model using 35 tickers\n",
      "\n",
      "Processing LULU...\n",
      "YF.download() has changed argument auto_adjust default to True\n"
     ]
    },
    {
     "name": "stderr",
     "output_type": "stream",
     "text": [
      "[*********************100%***********************]  1 of 1 completed\n",
      "[*********************100%***********************]  1 of 1 completed"
     ]
    },
    {
     "name": "stdout",
     "output_type": "stream",
     "text": [
      "Error retrieving fundamental data: The truth value of a Series is ambiguous. Use a.empty, a.bool(), a.item(), a.any() or a.all().\n",
      "No valid data after preprocessing for LULU, skipping\n",
      "\n",
      "Processing OLLI...\n"
     ]
    },
    {
     "name": "stderr",
     "output_type": "stream",
     "text": [
      "\n"
     ]
    },
    {
     "name": "stdout",
     "output_type": "stream",
     "text": [
      "Error retrieving fundamental data: The truth value of a Series is ambiguous. Use a.empty, a.bool(), a.item(), a.any() or a.all().\n",
      "No valid data after preprocessing for OLLI, skipping\n",
      "\n",
      "Processing CAG...\n"
     ]
    },
    {
     "name": "stderr",
     "output_type": "stream",
     "text": [
      "[*********************100%***********************]  1 of 1 completed\n"
     ]
    },
    {
     "name": "stdout",
     "output_type": "stream",
     "text": [
      "Error retrieving fundamental data: The truth value of a Series is ambiguous. Use a.empty, a.bool(), a.item(), a.any() or a.all().\n",
      "No valid data after preprocessing for CAG, skipping\n",
      "\n",
      "Processing GIS...\n"
     ]
    },
    {
     "name": "stderr",
     "output_type": "stream",
     "text": [
      "[*********************100%***********************]  1 of 1 completed\n",
      "[*********************100%***********************]  1 of 1 completed"
     ]
    },
    {
     "name": "stdout",
     "output_type": "stream",
     "text": [
      "Error retrieving fundamental data: The truth value of a Series is ambiguous. Use a.empty, a.bool(), a.item(), a.any() or a.all().\n",
      "No valid data after preprocessing for GIS, skipping\n",
      "\n",
      "Processing LW...\n"
     ]
    },
    {
     "name": "stderr",
     "output_type": "stream",
     "text": [
      "\n"
     ]
    },
    {
     "name": "stdout",
     "output_type": "stream",
     "text": [
      "Error retrieving fundamental data: The truth value of a Series is ambiguous. Use a.empty, a.bool(), a.item(), a.any() or a.all().\n",
      "No valid data after preprocessing for LW, skipping\n",
      "\n",
      "Processing PAYX...\n"
     ]
    },
    {
     "name": "stderr",
     "output_type": "stream",
     "text": [
      "[*********************100%***********************]  1 of 1 completed\n",
      "[*********************100%***********************]  1 of 1 completed"
     ]
    },
    {
     "name": "stdout",
     "output_type": "stream",
     "text": [
      "Error retrieving fundamental data: The truth value of a Series is ambiguous. Use a.empty, a.bool(), a.item(), a.any() or a.all().\n",
      "No valid data after preprocessing for PAYX, skipping\n",
      "\n",
      "Processing BEKE...\n"
     ]
    },
    {
     "name": "stderr",
     "output_type": "stream",
     "text": [
      "\n"
     ]
    },
    {
     "name": "stdout",
     "output_type": "stream",
     "text": [
      "Error retrieving fundamental data: The truth value of a Series is ambiguous. Use a.empty, a.bool(), a.item(), a.any() or a.all().\n",
      "No valid data after preprocessing for BEKE, skipping\n",
      "\n",
      "Processing SBUX...\n"
     ]
    },
    {
     "name": "stderr",
     "output_type": "stream",
     "text": [
      "[*********************100%***********************]  1 of 1 completed\n"
     ]
    },
    {
     "name": "stdout",
     "output_type": "stream",
     "text": [
      "Error retrieving fundamental data: The truth value of a Series is ambiguous. Use a.empty, a.bool(), a.item(), a.any() or a.all().\n",
      "No valid data after preprocessing for SBUX, skipping\n",
      "\n",
      "Processing AAPL...\n"
     ]
    },
    {
     "name": "stderr",
     "output_type": "stream",
     "text": [
      "[*********************100%***********************]  1 of 1 completed\n",
      "[*********************100%***********************]  1 of 1 completed"
     ]
    },
    {
     "name": "stdout",
     "output_type": "stream",
     "text": [
      "Error retrieving fundamental data: The truth value of a Series is ambiguous. Use a.empty, a.bool(), a.item(), a.any() or a.all().\n",
      "No valid data after preprocessing for AAPL, skipping\n",
      "\n",
      "Processing AMZN...\n"
     ]
    },
    {
     "name": "stderr",
     "output_type": "stream",
     "text": [
      "\n",
      "[*********************100%***********************]  1 of 1 completed"
     ]
    },
    {
     "name": "stdout",
     "output_type": "stream",
     "text": [
      "Error retrieving fundamental data: The truth value of a Series is ambiguous. Use a.empty, a.bool(), a.item(), a.any() or a.all().\n",
      "No valid data after preprocessing for AMZN, skipping\n",
      "\n",
      "Processing GOOGL...\n"
     ]
    },
    {
     "name": "stderr",
     "output_type": "stream",
     "text": [
      "\n",
      "[*********************100%***********************]  1 of 1 completed"
     ]
    },
    {
     "name": "stdout",
     "output_type": "stream",
     "text": [
      "Error retrieving fundamental data: The truth value of a Series is ambiguous. Use a.empty, a.bool(), a.item(), a.any() or a.all().\n",
      "No valid data after preprocessing for GOOGL, skipping\n",
      "\n",
      "Processing MSFT...\n"
     ]
    },
    {
     "name": "stderr",
     "output_type": "stream",
     "text": [
      "\n",
      "[*********************100%***********************]  1 of 1 completed"
     ]
    },
    {
     "name": "stdout",
     "output_type": "stream",
     "text": [
      "Error retrieving fundamental data: The truth value of a Series is ambiguous. Use a.empty, a.bool(), a.item(), a.any() or a.all().\n",
      "No valid data after preprocessing for MSFT, skipping\n",
      "\n",
      "Processing NVDA...\n"
     ]
    },
    {
     "name": "stderr",
     "output_type": "stream",
     "text": [
      "\n",
      "[*********************100%***********************]  1 of 1 completed"
     ]
    },
    {
     "name": "stdout",
     "output_type": "stream",
     "text": [
      "Error retrieving fundamental data: The truth value of a Series is ambiguous. Use a.empty, a.bool(), a.item(), a.any() or a.all().\n",
      "No valid data after preprocessing for NVDA, skipping\n",
      "\n",
      "Processing TSLA...\n"
     ]
    },
    {
     "name": "stderr",
     "output_type": "stream",
     "text": [
      "\n",
      "[*********************100%***********************]  1 of 1 completed"
     ]
    },
    {
     "name": "stdout",
     "output_type": "stream",
     "text": [
      "Error retrieving fundamental data: The truth value of a Series is ambiguous. Use a.empty, a.bool(), a.item(), a.any() or a.all().\n",
      "No valid data after preprocessing for TSLA, skipping\n",
      "\n",
      "Processing META...\n"
     ]
    },
    {
     "name": "stderr",
     "output_type": "stream",
     "text": [
      "\n",
      "[*********************100%***********************]  1 of 1 completed"
     ]
    },
    {
     "name": "stdout",
     "output_type": "stream",
     "text": [
      "Error retrieving fundamental data: The truth value of a Series is ambiguous. Use a.empty, a.bool(), a.item(), a.any() or a.all().\n",
      "No valid data after preprocessing for META, skipping\n",
      "\n",
      "Processing BABA...\n"
     ]
    },
    {
     "name": "stderr",
     "output_type": "stream",
     "text": [
      "\n",
      "[*********************100%***********************]  1 of 1 completed"
     ]
    },
    {
     "name": "stdout",
     "output_type": "stream",
     "text": [
      "Error retrieving fundamental data: The truth value of a Series is ambiguous. Use a.empty, a.bool(), a.item(), a.any() or a.all().\n",
      "No valid data after preprocessing for BABA, skipping\n",
      "\n",
      "Processing PYPL...\n"
     ]
    },
    {
     "name": "stderr",
     "output_type": "stream",
     "text": [
      "\n",
      "[*********************100%***********************]  1 of 1 completed"
     ]
    },
    {
     "name": "stdout",
     "output_type": "stream",
     "text": [
      "Error retrieving fundamental data: The truth value of a Series is ambiguous. Use a.empty, a.bool(), a.item(), a.any() or a.all().\n",
      "No valid data after preprocessing for PYPL, skipping\n",
      "\n",
      "Processing ADBE...\n"
     ]
    },
    {
     "name": "stderr",
     "output_type": "stream",
     "text": [
      "\n",
      "[*********************100%***********************]  1 of 1 completed"
     ]
    },
    {
     "name": "stdout",
     "output_type": "stream",
     "text": [
      "Error retrieving fundamental data: The truth value of a Series is ambiguous. Use a.empty, a.bool(), a.item(), a.any() or a.all().\n",
      "No valid data after preprocessing for ADBE, skipping\n",
      "\n",
      "Processing AMD...\n"
     ]
    },
    {
     "name": "stderr",
     "output_type": "stream",
     "text": [
      "\n"
     ]
    },
    {
     "name": "stdout",
     "output_type": "stream",
     "text": [
      "Error retrieving fundamental data: The truth value of a Series is ambiguous. Use a.empty, a.bool(), a.item(), a.any() or a.all().\n",
      "No valid data after preprocessing for AMD, skipping\n",
      "\n",
      "Processing SPGI...\n"
     ]
    },
    {
     "name": "stderr",
     "output_type": "stream",
     "text": [
      "[*********************100%***********************]  1 of 1 completed\n"
     ]
    },
    {
     "name": "stdout",
     "output_type": "stream",
     "text": [
      "Error retrieving fundamental data: The truth value of a Series is ambiguous. Use a.empty, a.bool(), a.item(), a.any() or a.all().\n",
      "No valid data after preprocessing for SPGI, skipping\n",
      "\n",
      "Processing INTC...\n"
     ]
    },
    {
     "name": "stderr",
     "output_type": "stream",
     "text": [
      "[*********************100%***********************]  1 of 1 completed\n",
      "[*********************100%***********************]  1 of 1 completed"
     ]
    },
    {
     "name": "stdout",
     "output_type": "stream",
     "text": [
      "Error retrieving fundamental data: The truth value of a Series is ambiguous. Use a.empty, a.bool(), a.item(), a.any() or a.all().\n",
      "No valid data after preprocessing for INTC, skipping\n",
      "\n",
      "Processing CRM...\n"
     ]
    },
    {
     "name": "stderr",
     "output_type": "stream",
     "text": [
      "\n"
     ]
    },
    {
     "name": "stdout",
     "output_type": "stream",
     "text": [
      "Error retrieving fundamental data: The truth value of a Series is ambiguous. Use a.empty, a.bool(), a.item(), a.any() or a.all().\n",
      "No valid data after preprocessing for CRM, skipping\n",
      "\n",
      "Processing PEP...\n"
     ]
    },
    {
     "name": "stderr",
     "output_type": "stream",
     "text": [
      "[*********************100%***********************]  1 of 1 completed\n"
     ]
    },
    {
     "name": "stdout",
     "output_type": "stream",
     "text": [
      "Error retrieving fundamental data: The truth value of a Series is ambiguous. Use a.empty, a.bool(), a.item(), a.any() or a.all().\n",
      "No valid data after preprocessing for PEP, skipping\n",
      "\n",
      "Processing KO...\n"
     ]
    },
    {
     "name": "stderr",
     "output_type": "stream",
     "text": [
      "[*********************100%***********************]  1 of 1 completed\n"
     ]
    },
    {
     "name": "stdout",
     "output_type": "stream",
     "text": [
      "Error retrieving fundamental data: The truth value of a Series is ambiguous. Use a.empty, a.bool(), a.item(), a.any() or a.all().\n",
      "No valid data after preprocessing for KO, skipping\n",
      "\n",
      "Processing MCD...\n"
     ]
    },
    {
     "name": "stderr",
     "output_type": "stream",
     "text": [
      "[*********************100%***********************]  1 of 1 completed\n"
     ]
    },
    {
     "name": "stdout",
     "output_type": "stream",
     "text": [
      "Error retrieving fundamental data: The truth value of a Series is ambiguous. Use a.empty, a.bool(), a.item(), a.any() or a.all().\n",
      "No valid data after preprocessing for MCD, skipping\n",
      "\n",
      "Processing WMT...\n"
     ]
    },
    {
     "name": "stderr",
     "output_type": "stream",
     "text": [
      "[*********************100%***********************]  1 of 1 completed\n",
      "[*********************100%***********************]  1 of 1 completed"
     ]
    },
    {
     "name": "stdout",
     "output_type": "stream",
     "text": [
      "Error retrieving fundamental data: The truth value of a Series is ambiguous. Use a.empty, a.bool(), a.item(), a.any() or a.all().\n",
      "No valid data after preprocessing for WMT, skipping\n",
      "\n",
      "Processing COST...\n"
     ]
    },
    {
     "name": "stderr",
     "output_type": "stream",
     "text": [
      "\n"
     ]
    },
    {
     "name": "stdout",
     "output_type": "stream",
     "text": [
      "Error retrieving fundamental data: The truth value of a Series is ambiguous. Use a.empty, a.bool(), a.item(), a.any() or a.all().\n",
      "No valid data after preprocessing for COST, skipping\n",
      "\n",
      "Processing TJX...\n"
     ]
    },
    {
     "name": "stderr",
     "output_type": "stream",
     "text": [
      "[*********************100%***********************]  1 of 1 completed\n",
      "[*********************100%***********************]  1 of 1 completed"
     ]
    },
    {
     "name": "stdout",
     "output_type": "stream",
     "text": [
      "Error retrieving fundamental data: The truth value of a Series is ambiguous. Use a.empty, a.bool(), a.item(), a.any() or a.all().\n",
      "No valid data after preprocessing for TJX, skipping\n",
      "\n",
      "Processing LOW...\n"
     ]
    },
    {
     "name": "stderr",
     "output_type": "stream",
     "text": [
      "\n"
     ]
    },
    {
     "name": "stdout",
     "output_type": "stream",
     "text": [
      "Error retrieving fundamental data: The truth value of a Series is ambiguous. Use a.empty, a.bool(), a.item(), a.any() or a.all().\n",
      "No valid data after preprocessing for LOW, skipping\n",
      "\n",
      "Processing HD...\n"
     ]
    },
    {
     "name": "stderr",
     "output_type": "stream",
     "text": [
      "[*********************100%***********************]  1 of 1 completed\n"
     ]
    },
    {
     "name": "stdout",
     "output_type": "stream",
     "text": [
      "Error retrieving fundamental data: The truth value of a Series is ambiguous. Use a.empty, a.bool(), a.item(), a.any() or a.all().\n",
      "No valid data after preprocessing for HD, skipping\n",
      "\n",
      "Processing DIS...\n"
     ]
    },
    {
     "name": "stderr",
     "output_type": "stream",
     "text": [
      "[*********************100%***********************]  1 of 1 completed\n",
      "[*********************100%***********************]  1 of 1 completed"
     ]
    },
    {
     "name": "stdout",
     "output_type": "stream",
     "text": [
      "Error retrieving fundamental data: The truth value of a Series is ambiguous. Use a.empty, a.bool(), a.item(), a.any() or a.all().\n",
      "No valid data after preprocessing for DIS, skipping\n",
      "\n",
      "Processing V...\n"
     ]
    },
    {
     "name": "stderr",
     "output_type": "stream",
     "text": [
      "\n"
     ]
    },
    {
     "name": "stdout",
     "output_type": "stream",
     "text": [
      "Error retrieving fundamental data: The truth value of a Series is ambiguous. Use a.empty, a.bool(), a.item(), a.any() or a.all().\n",
      "No valid data after preprocessing for V, skipping\n",
      "\n",
      "Processing MA...\n"
     ]
    },
    {
     "name": "stderr",
     "output_type": "stream",
     "text": [
      "[*********************100%***********************]  1 of 1 completed\n"
     ]
    },
    {
     "name": "stdout",
     "output_type": "stream",
     "text": [
      "Error retrieving fundamental data: The truth value of a Series is ambiguous. Use a.empty, a.bool(), a.item(), a.any() or a.all().\n",
      "No valid data after preprocessing for MA, skipping\n",
      "\n",
      "Processing XOM...\n"
     ]
    },
    {
     "name": "stderr",
     "output_type": "stream",
     "text": [
      "[*********************100%***********************]  1 of 1 completed\n"
     ]
    },
    {
     "name": "stdout",
     "output_type": "stream",
     "text": [
      "Error retrieving fundamental data: The truth value of a Series is ambiguous. Use a.empty, a.bool(), a.item(), a.any() or a.all().\n",
      "No valid data after preprocessing for XOM, skipping\n",
      "\n",
      "Processing CVX...\n"
     ]
    },
    {
     "name": "stderr",
     "output_type": "stream",
     "text": [
      "[*********************100%***********************]  1 of 1 completed\n",
      "[*********************100%***********************]  1 of 1 completed"
     ]
    },
    {
     "name": "stdout",
     "output_type": "stream",
     "text": [
      "Error retrieving fundamental data: The truth value of a Series is ambiguous. Use a.empty, a.bool(), a.item(), a.any() or a.all().\n",
      "No valid data after preprocessing for CVX, skipping\n",
      "Error in training: No valid data collected from any ticker\n",
      "No valid model and scaler available. Cannot proceed with predictions.\n",
      "No valid model and scaler available. Cannot proceed with predictions.\n",
      "\n",
      "Generating predictions for LCID\n"
     ]
    },
    {
     "name": "stderr",
     "output_type": "stream",
     "text": [
      "\n"
     ]
    },
    {
     "name": "stdout",
     "output_type": "stream",
     "text": [
      "Error retrieving fundamental data: The truth value of a Series is ambiguous. Use a.empty, a.bool(), a.item(), a.any() or a.all().\n",
      "Enhanced data: Price       Close   High    Low    Open     Volume 1y_return 3y_return  \\\n",
      "Ticker       LCID   LCID   LCID    LCID       LCID                       \n",
      "Date                                                                     \n",
      "2025-03-10  2.080  2.280  2.070  2.1050  127930100       NaN       NaN   \n",
      "2025-03-11  2.090  2.160  1.990  2.0850  115668900       NaN       NaN   \n",
      "2025-03-12  2.160  2.270  2.105  2.1300  123676500       NaN       NaN   \n",
      "2025-03-13  2.030  2.160  2.010  2.1600  102221100       NaN       NaN   \n",
      "2025-03-14  2.090  2.120  2.030  2.0700   75822700       NaN       NaN   \n",
      "2025-03-17  2.160  2.180  2.100  2.1050   67328300       NaN       NaN   \n",
      "2025-03-18  2.350  2.510  2.180  2.1850  180313100       NaN       NaN   \n",
      "2025-03-19  2.440  2.570  2.360  2.3950  133701300       NaN       NaN   \n",
      "2025-03-20  2.280  2.420  2.270  2.3950   83491500       NaN       NaN   \n",
      "2025-03-21  2.420  2.440  2.250  2.2700   98577200       NaN       NaN   \n",
      "2025-03-24  2.470  2.510  2.430  2.4500   67654900       NaN       NaN   \n",
      "2025-03-25  2.430  2.515  2.400  2.4600   53804400       NaN       NaN   \n",
      "2025-03-26  2.355  2.460  2.350  2.4500   69290400       NaN       NaN   \n",
      "2025-03-27  2.420  2.450  2.340  2.3450   75035300       NaN       NaN   \n",
      "2025-03-28  2.320  2.400  2.250  2.3950   71361600       NaN       NaN   \n",
      "2025-03-31  2.420  2.440  2.210  2.2600   89771700       NaN       NaN   \n",
      "2025-04-01  2.530  2.660  2.440  2.4400  111757500       NaN       NaN   \n",
      "2025-04-02  2.400  2.530  2.370  2.5200  127635100       NaN       NaN   \n",
      "2025-04-03  2.320  2.420  2.220  2.2400  212604900       NaN       NaN   \n",
      "2025-04-04  2.280  2.350  2.060  2.2800  107561800       NaN       NaN   \n",
      "2025-04-07  2.415  2.550  2.160  2.1675  142439524       NaN       NaN   \n",
      "\n",
      "Price      5y_return 1y_volatility 200d_volatility  ...      BBM       BBU  \\\n",
      "Ticker                                              ...                      \n",
      "Date                                                ...                      \n",
      "2025-03-10       NaN           NaN             NaN  ...      NaN       NaN   \n",
      "2025-03-11       NaN           NaN             NaN  ...      NaN       NaN   \n",
      "2025-03-12       NaN           NaN             NaN  ...      NaN       NaN   \n",
      "2025-03-13       NaN           NaN             NaN  ...      NaN       NaN   \n",
      "2025-03-14       NaN           NaN             NaN  ...      NaN       NaN   \n",
      "2025-03-17       NaN           NaN             NaN  ...      NaN       NaN   \n",
      "2025-03-18       NaN           NaN             NaN  ...      NaN       NaN   \n",
      "2025-03-19       NaN           NaN             NaN  ...      NaN       NaN   \n",
      "2025-03-20       NaN           NaN             NaN  ...      NaN       NaN   \n",
      "2025-03-21       NaN           NaN             NaN  ...      NaN       NaN   \n",
      "2025-03-24       NaN           NaN             NaN  ...      NaN       NaN   \n",
      "2025-03-25       NaN           NaN             NaN  ...      NaN       NaN   \n",
      "2025-03-26       NaN           NaN             NaN  ...      NaN       NaN   \n",
      "2025-03-27       NaN           NaN             NaN  ...      NaN       NaN   \n",
      "2025-03-28       NaN           NaN             NaN  ...      NaN       NaN   \n",
      "2025-03-31       NaN           NaN             NaN  ...      NaN       NaN   \n",
      "2025-04-01       NaN           NaN             NaN  ...      NaN       NaN   \n",
      "2025-04-02       NaN           NaN             NaN  ...      NaN       NaN   \n",
      "2025-04-03       NaN           NaN             NaN  ...      NaN       NaN   \n",
      "2025-04-04       NaN           NaN             NaN  ...  2.30225  2.009941   \n",
      "2025-04-07       NaN           NaN             NaN  ...  2.31900  2.041536   \n",
      "\n",
      "Price      above_200ma above_50ma EMA_50 EMA_200 PE_Ratio PEG_Ratio P_B_Ratio  \\\n",
      "Ticker                                                                          \n",
      "Date                                                                            \n",
      "2025-03-10       False      False    NaN     NaN      NaN       NaN  1.889671   \n",
      "2025-03-11       False      False    NaN     NaN      NaN       NaN  1.889671   \n",
      "2025-03-12       False      False    NaN     NaN      NaN       NaN  1.889671   \n",
      "2025-03-13       False      False    NaN     NaN      NaN       NaN  1.889671   \n",
      "2025-03-14       False      False    NaN     NaN      NaN       NaN  1.889671   \n",
      "2025-03-17       False      False    NaN     NaN      NaN       NaN  1.889671   \n",
      "2025-03-18       False      False    NaN     NaN      NaN       NaN  1.889671   \n",
      "2025-03-19       False      False    NaN     NaN      NaN       NaN  1.889671   \n",
      "2025-03-20       False      False    NaN     NaN      NaN       NaN  1.889671   \n",
      "2025-03-21       False      False    NaN     NaN      NaN       NaN  1.889671   \n",
      "2025-03-24       False      False    NaN     NaN      NaN       NaN  1.889671   \n",
      "2025-03-25       False      False    NaN     NaN      NaN       NaN  1.889671   \n",
      "2025-03-26       False      False    NaN     NaN      NaN       NaN  1.889671   \n",
      "2025-03-27       False      False    NaN     NaN      NaN       NaN  1.889671   \n",
      "2025-03-28       False      False    NaN     NaN      NaN       NaN  1.889671   \n",
      "2025-03-31       False      False    NaN     NaN      NaN       NaN  1.889671   \n",
      "2025-04-01       False      False    NaN     NaN      NaN       NaN  1.889671   \n",
      "2025-04-02       False      False    NaN     NaN      NaN       NaN  1.889671   \n",
      "2025-04-03       False      False    NaN     NaN      NaN       NaN  1.889671   \n",
      "2025-04-04       False      False    NaN     NaN      NaN       NaN  1.889671   \n",
      "2025-04-07       False      False    NaN     NaN      NaN       NaN  1.889671   \n",
      "\n",
      "Price      Dividend_Yield  \n",
      "Ticker                     \n",
      "Date                       \n",
      "2025-03-10            NaN  \n",
      "2025-03-11            NaN  \n",
      "2025-03-12            NaN  \n",
      "2025-03-13            NaN  \n",
      "2025-03-14            NaN  \n",
      "2025-03-17            NaN  \n",
      "2025-03-18            NaN  \n",
      "2025-03-19            NaN  \n",
      "2025-03-20            NaN  \n",
      "2025-03-21            NaN  \n",
      "2025-03-24            NaN  \n",
      "2025-03-25            NaN  \n",
      "2025-03-26            NaN  \n",
      "2025-03-27            NaN  \n",
      "2025-03-28            NaN  \n",
      "2025-03-31            NaN  \n",
      "2025-04-01            NaN  \n",
      "2025-04-02            NaN  \n",
      "2025-04-03            NaN  \n",
      "2025-04-04            NaN  \n",
      "2025-04-07            NaN  \n",
      "\n",
      "[21 rows x 32 columns]\n"
     ]
    },
    {
     "ename": "NameError",
     "evalue": "name 'available_features' is not defined",
     "output_type": "error",
     "traceback": [
      "\u001b[31m---------------------------------------------------------------------------\u001b[39m",
      "\u001b[31mNameError\u001b[39m                                 Traceback (most recent call last)",
      "\u001b[36mCell\u001b[39m\u001b[36m \u001b[39m\u001b[32mIn[2]\u001b[39m\u001b[32m, line 74\u001b[39m\n\u001b[32m     50\u001b[39m \u001b[38;5;66;03m# Define available features (make sure this matches your training features)\u001b[39;00m\n\u001b[32m     51\u001b[39m long_term_growth_features = [\n\u001b[32m     52\u001b[39m     \u001b[33m'\u001b[39m\u001b[33mOpen\u001b[39m\u001b[33m'\u001b[39m, \u001b[33m'\u001b[39m\u001b[33mHigh\u001b[39m\u001b[33m'\u001b[39m, \u001b[33m'\u001b[39m\u001b[33mLow\u001b[39m\u001b[33m'\u001b[39m, \u001b[33m'\u001b[39m\u001b[33mClose\u001b[39m\u001b[33m'\u001b[39m, \u001b[33m'\u001b[39m\u001b[33mVolume\u001b[39m\u001b[33m'\u001b[39m,  \u001b[38;5;66;03m# Basic price and volume data\u001b[39;00m\n\u001b[32m     53\u001b[39m     \u001b[33m'\u001b[39m\u001b[33m1y_return\u001b[39m\u001b[33m'\u001b[39m, \u001b[33m'\u001b[39m\u001b[33m2y_return\u001b[39m\u001b[33m'\u001b[39m, \u001b[33m'\u001b[39m\u001b[33m3y_return\u001b[39m\u001b[33m'\u001b[39m, \u001b[33m'\u001b[39m\u001b[33m5y_return\u001b[39m\u001b[33m'\u001b[39m,  \u001b[38;5;66;03m# Long-term returns (1 year, 2 years, 3 years, 5 years)\u001b[39;00m\n\u001b[32m   (...)\u001b[39m\u001b[32m     71\u001b[39m     \u001b[33m'\u001b[39m\u001b[33mGDP_Growth\u001b[39m\u001b[33m'\u001b[39m, \u001b[33m'\u001b[39m\u001b[33mUnemployment_Rate\u001b[39m\u001b[33m'\u001b[39m,  \u001b[38;5;66;03m# Broader economic indicators (GDP and unemployment rate)\u001b[39;00m\n\u001b[32m     72\u001b[39m ]\n\u001b[32m---> \u001b[39m\u001b[32m74\u001b[39m features = enhanced_data[\u001b[43mavailable_features\u001b[49m].values\n\u001b[32m     75\u001b[39m \u001b[38;5;28;01mif\u001b[39;00m features.size == \u001b[32m0\u001b[39m:\n\u001b[32m     76\u001b[39m     \u001b[38;5;28;01mraise\u001b[39;00m \u001b[38;5;167;01mValueError\u001b[39;00m(\u001b[33m\"\u001b[39m\u001b[33mNo valid features extracted\u001b[39m\u001b[33m\"\u001b[39m)\n",
      "\u001b[31mNameError\u001b[39m: name 'available_features' is not defined"
     ]
    },
    {
     "ename": "",
     "evalue": "",
     "output_type": "error",
     "traceback": [
      "\u001b[1;31mThe Kernel crashed while executing code in the current cell or a previous cell. \n",
      "\u001b[1;31mPlease review the code in the cell(s) to identify a possible cause of the failure. \n",
      "\u001b[1;31mClick <a href='https://aka.ms/vscodeJupyterKernelCrash'>here</a> for more info. \n",
      "\u001b[1;31mView Jupyter <a href='command:jupyter.viewOutput'>log</a> for further details."
     ]
    }
   ],
   "source": [
    "import sys\n",
    "import os\n",
    "\n",
    "sys.path.append(os.path.abspath(os.path.join(os.getcwd(), '..')))\n",
    "\n",
    "from utils.models.train import train\n",
    "from utils.models.save import save\n",
    "from utils.models.load import load\n",
    "from utils.stocks.download_stock_data import download_stock_data\n",
    "from utils.stocks.add_long_term_stock_features import add_long_term_stock_features\n",
    "from utils.stocks.get_breakout_stocks import get_breakout_stocks\n",
    "from utils.training.long_term_growth import long_term_growth\n",
    "from utils.stocks.get_long_term_stock_features import get_long_term_stock_features\n",
    "\n",
    "model_name = \"stocks_10x_breakout_model\"\n",
    "\n",
    "# Try to load existing model first\n",
    "model, scaler, last_data = load(model_name)\n",
    "\n",
    "if model is None:\n",
    "    print(f\"Training new model.\")\n",
    "    # these tickers are used for training\n",
    "    # they create the model baseline that we want to beat or match\n",
    "    reported_breakout_stocks = get_breakout_stocks()\n",
    "\n",
    "    model, sclare = long_term_growth(reported_breakout_stocks, model_name)\n",
    "    # Verify we have a NEW model and scaler before proceeding\n",
    "    if model is None or scaler is None:\n",
    "        print(\"No valid model and scaler available. Cannot proceed with predictions.\")\n",
    "        exit()\n",
    "\n",
    "# Verify we have a PRE_LOADED model and scaler before proceeding\n",
    "if model is None or scaler is None:\n",
    "    print(\"No valid model and scaler available. Cannot proceed with predictions.\")\n",
    "    exit()\n",
    "\n",
    "# for analysis, these tickers use the model for prediction!\n",
    "# this is where you set your stock symbols you want to predict on\n",
    "tickers = [\"LCID\", \"NIO\"]\n",
    "\n",
    "# Run the model for each ticker\n",
    "for ticker in tickers:\n",
    "    print(f\"\\nGenerating predictions for {ticker}\")\n",
    "    stock_data = download_stock_data(ticker, \n",
    "                                    datetime.now() - timedelta(days=30),\n",
    "                                    datetime.now())\n",
    "    enhanced_data = add_long_term_stock_features(stock_data, ticker)\n",
    "\n",
    "    print(f\"Enhanced data: {enhanced_data}\")\n",
    "    \n",
    "    # Define available features (make sure this matches your training features)\n",
    "    long_term_growth_features = get_long_term_stock_features()\n",
    "    features = enhanced_data[long_term_growth_features].values\n",
    "    if features.size == 0:\n",
    "        raise ValueError(\"No valid features extracted\")\n",
    "    features_scaled = scaler.transform(features)\n",
    "    predictions = predict(model, features_scaled, 20, ticker, scaler, stock_data, enhanced_data, num_months=60)"
   ]
  },
  {
   "cell_type": "markdown",
   "metadata": {},
   "source": []
  }
 ],
 "metadata": {
  "kernelspec": {
   "display_name": ".venv",
   "language": "python",
   "name": "python3"
  },
  "language_info": {
   "codemirror_mode": {
    "name": "ipython",
    "version": 3
   },
   "file_extension": ".py",
   "mimetype": "text/x-python",
   "name": "python",
   "nbconvert_exporter": "python",
   "pygments_lexer": "ipython3",
   "version": "3.13.2"
  }
 },
 "nbformat": 4,
 "nbformat_minor": 2
}
